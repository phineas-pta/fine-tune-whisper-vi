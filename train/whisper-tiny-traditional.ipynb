{
	"cells": [
		{
			"cell_type": "markdown",
			"metadata": {},
			"source": [
				"# fine-tune whisper tiny with traditional approach\n",
				"\n",
				"[![](https://colab.research.google.com/assets/colab-badge.svg)](https://colab.research.google.com/github/phineas-pta/fine-tune-whisper-vi/blob/main/train/whisper-tiny-traditional.ipynb)\n",
				"\n",
				"on colab: mount gdrive using GUI before training\n",
				"\n",
				"on kaggle: select kaggle free T4×2 for auto double batch size\n",
				"\n",
				"disable evaluation on test sets because it gets stuck indefinitely"
			]
		},
		{
			"cell_type": "code",
			"execution_count": null,
			"metadata": {},
			"outputs": [],
			"source": [
				"from huggingface_hub import notebook_login\n",
				"notebook_login()\n",
				"# !huggingface-cli login --token=███"
			]
		},
		{
			"cell_type": "code",
			"execution_count": null,
			"metadata": {},
			"outputs": [],
			"source": [
				"# workaround for a bug in `datasets` package\n",
				"%pip uninstall -y cudf dask-cuda dask-cudf\n",
				"%pip install -q cudf-cu12 --extra-index-url=https://pypi.nvidia.com\n",
				"%pip install -qU 'datasets[audio]' accelerate transformers jiwer\n",
				"# install then `import evaluate` throw error on kaggle"
			]
		},
		{
			"cell_type": "code",
			"execution_count": null,
			"metadata": {},
			"outputs": [],
			"source": [
				"from dataclasses import dataclass\n",
				"import datasets as hugDS\n",
				"from transformers import WhisperForConditionalGeneration, WhisperFeatureExtractor, WhisperTokenizer, Seq2SeqTrainingArguments, Seq2SeqTrainer\n",
				"import jiwer"
			]
		},
		{
			"cell_type": "code",
			"execution_count": null,
			"metadata": {},
			"outputs": [],
			"source": [
				"SAMPLING_RATE = 16_000\n",
				"def load_my_data(mode, **kwargs):\n",
				"\ttmp = hugDS.load_dataset(**kwargs, trust_remote_code=True, streaming=True).cast_column(\"audio\", hugDS.Audio(sampling_rate=SAMPLING_RATE))\n",
				"\tmatch mode:\n",
				"\t\tcase 0:\n",
				"\t\t\treturn tmp\n",
				"\t\tcase 1:\n",
				"\t\t\treturn tmp.select_columns([\"audio\", \"transcription\"])\n",
				"\t\tcase 2:\n",
				"\t\t\treturn tmp.select_columns([\"audio\", \"sentence\"]).rename_column(\"sentence\", \"transcription\")\n",
				"\t\tcase _:\n",
				"\t\t\traise ValueError(\"oh no!\")\n",
				"\n",
				"MY_DATA = hugDS.IterableDatasetDict()\n",
				"\n",
				"MY_DATA[\"train\"] = hugDS.concatenate_datasets([  # total: 1.5M samples\n",
				"\tload_my_data(path=\"google/fleurs\",                        name=\"vi_vn\", split=\"train\", mode=1),  # 3k\n",
				"\tload_my_data(path=\"mozilla-foundation/common_voice_16_1\", name=\"vi\",    split=\"train\", mode=2),  # 2.3k\n",
				"\tload_my_data(path=\"vivos\",                                              split=\"train\", mode=2),  # 11.7k\n",
				"\tload_my_data(path=\"doof-ferb/fpt_fosd\",                                 split=\"train\", mode=0),  # 25.9k\n",
				"\tload_my_data(path=\"doof-ferb/infore1_25hours\",                          split=\"train\", mode=0),  # 14.9k\n",
				"\tload_my_data(path=\"doof-ferb/vlsp2020_vinai_100h\",                      split=\"train\", mode=0),  # 56.4k\n",
				"\tload_my_data(path=\"doof-ferb/LSVSC\",                                    split=\"train\", mode=1),  # 45k\n",
				"\tload_my_data(path=\"quocanh34/viet_vlsp\",                                split=\"train\", mode=0),  # 171k\n",
				"\tload_my_data(path=\"linhtran92/viet_youtube_asr_corpus_v2\",              split=\"train\", mode=1),  # 195k\n",
				"\tload_my_data(path=\"doof-ferb/infore2_audiobooks\",                       split=\"train\", mode=0),  # 315k\n",
				"\tload_my_data(path=\"linhtran92/viet_bud500\",                             split=\"train\", mode=0),  # 634k\n",
				"])\n",
				"\n",
				"MY_DATA[\"test\"] = hugDS.concatenate_datasets([  # total: 59k samples\n",
				"\tload_my_data(path=\"google/fleurs\",                        name=\"vi_vn\", split=\"validation\", mode=1),  # .3k\n",
				"\tload_my_data(path=\"google/fleurs\",                        name=\"vi_vn\", split=\"test\",       mode=1),  # .8k\n",
				"\tload_my_data(path=\"mozilla-foundation/common_voice_16_1\", name=\"vi\",    split=\"validation\", mode=2),  # .4k\n",
				"\tload_my_data(path=\"mozilla-foundation/common_voice_16_1\", name=\"vi\",    split=\"test\",       mode=2),  # 1.3k\n",
				"\tload_my_data(path=\"vivos\",                                              split=\"test\",       mode=2),  # .7k\n",
				"\tload_my_data(path=\"doof-ferb/LSVSC\",                                    split=\"validation\", mode=1),  # 5.7k\n",
				"\tload_my_data(path=\"doof-ferb/LSVSC\",                                    split=\"test\",       mode=1),  # 5.7k\n",
				"\tload_my_data(path=\"quocanh34/viet_vlsp\",                                split=\"validation\", mode=0),  # 7.5k\n",
				"\tload_my_data(path=\"linhtran92/viet_youtube_asr_corpus_v2\",              split=\"test\",       mode=1),  # 21.6k\n",
				"\tload_my_data(path=\"linhtran92/viet_bud500\",                             split=\"validation\", mode=0),  # 7.5k\n",
				"\tload_my_data(path=\"linhtran92/viet_bud500\",                             split=\"test\",       mode=0),  # 7.5k\n",
				"])\n",
				"\n",
				"# some samples will be filtered out later (unknown how many)"
			]
		},
		{
			"cell_type": "code",
			"execution_count": null,
			"metadata": {},
			"outputs": [],
			"source": [
				"modelID = \"openai/whisper-tiny\"\n",
				"FEATURE_EXTRACTOR = WhisperFeatureExtractor.from_pretrained(modelID)\n",
				"TOKENIZER = WhisperTokenizer.from_pretrained(modelID, language=\"vi\", task=\"transcribe\")\n",
				"MODEL = WhisperForConditionalGeneration.from_pretrained(modelID, use_cache=False)\n",
				"MODEL.config.forced_decoder_ids = None\n",
				"MODEL.config.suppress_tokens = []\n",
				"\n",
				"DUMMY_TOKEN = -100"
			]
		},
		{
			"cell_type": "code",
			"execution_count": null,
			"metadata": {},
			"outputs": [],
			"source": [
				"def prepare_dataset(batch):\n",
				"\taudio = batch[\"audio\"]\n",
				"\tbatch[\"input_length\"] = len(audio[\"array\"])  # compute input length\n",
				"\tbatch[\"input_features\"] = FEATURE_EXTRACTOR(audio[\"array\"], sampling_rate=SAMPLING_RATE).input_features[0]  # compute log-Mel input features\n",
				"\tbatch[\"labels\"] = TOKENIZER(batch[\"transcription\"]).input_ids  # encode target text to label ids\n",
				"\tbatch[\"labels_length\"] = len(batch[\"labels\"])  # compute labels length\n",
				"\treturn batch\n",
				"\n",
				"def filter_inputs(input_length):\n",
				"\t\"\"\"Filter inputs with zero input length or longer than 30s\"\"\"\n",
				"\treturn 0 < input_length < 48e4  # 30s × 16kHz\n",
				"\n",
				"def filter_labels(labels_length):\n",
				"\t\"\"\"Filter label sequences longer than max length 448 tokens\"\"\"\n",
				"\treturn labels_length < 448  # MODEL.config.max_length\n",
				"\n",
				"MY_DATA = (MY_DATA\n",
				"\t# .shuffle(seed=42)  # useless coz streaming multiple datasets (cannot set buffer too high coz not enough RAM)\n",
				"\t.map(prepare_dataset)  # no `num_proc` coz streaming\n",
				"\t.filter(filter_inputs, input_columns= [\"input_length\"])  # no `remove_columns` coz streaming\n",
				"\t.filter(filter_labels, input_columns=[\"labels_length\"])  # no `remove_columns` coz streaming\n",
				")  # TODO: enable `batched=True` but don’t know how to write functions"
			]
		},
		{
			"cell_type": "code",
			"execution_count": null,
			"metadata": {},
			"outputs": [],
			"source": [
				"@dataclass\n",
				"class DataCollatorSpeechSeq2SeqWithPadding:\n",
				"\tdef __call__(self, features):\n",
				"\t\t# split inputs and labels since they have to be of different lengths and need different padding methods\n",
				"\t\tinput_features = [{\"input_features\": feature[\"input_features\"]} for feature in features]\n",
				"\t\tlabel_features = [{\"input_ids\"     : feature[\"labels\"]        } for feature in features]  # get the tokenized label sequences\n",
				"\n",
				"\t\tbatch = FEATURE_EXTRACTOR.pad(input_features, return_tensors=\"pt\")  # treat the audio inputs by simply returning torch tensors\n",
				"\t\tlabels_batch =  TOKENIZER.pad(label_features, return_tensors=\"pt\")  # pad the labels to max length\n",
				"\t\tlabels = labels_batch[\"input_ids\"].masked_fill(labels_batch.attention_mask.ne(1), DUMMY_TOKEN)  # replace padding with -100 to ignore loss correctly\n",
				"\n",
				"\t\tif (labels[:, 0] == TOKENIZER.bos_token_id).all().cpu().item():  # if bos token is appended in previous tokenization step,\n",
				"\t\t\tlabels = labels[:, 1:]  # cut bos token here as it’s append later anyways\n",
				"\n",
				"\t\tbatch[\"labels\"] = labels\n",
				"\t\treturn batch\n",
				"\n",
				"DATA_COLLATOR = DataCollatorSpeechSeq2SeqWithPadding()"
			]
		},
		{
			"cell_type": "code",
			"execution_count": null,
			"metadata": {},
			"outputs": [],
			"source": [
				"JIWER_TRANS = jiwer.Compose([  # DO NOT use `jiwer.RemoveEmptyStrings` it can cause rows count mismatch\n",
				"\tjiwer.ToLowerCase(),\n",
				"\tjiwer.RemoveKaldiNonWords(),\n",
				"\tjiwer.RemoveMultipleSpaces(),\n",
				"\tjiwer.Strip(),\n",
				"\tjiwer.RemovePunctuation(),\n",
				"\tjiwer.ReduceToListOfListOfWords(),\n",
				"])\n",
				"\n",
				"def compute_metrics(pred):\n",
				"\tpred_ids = pred.predictions\n",
				"\tlabel_ids = pred.label_ids\n",
				"\tlabel_ids[label_ids == DUMMY_TOKEN] = TOKENIZER.pad_token_id  # replace -100 with the pad_token_id\n",
				"\n",
				"\twer = jiwer.wer(  # we do not want to group tokens when computing the metrics\n",
				"\t\treference=TOKENIZER.batch_decode(label_ids, skip_special_tokens=True),\n",
				"\t\thypothesis=TOKENIZER.batch_decode(pred_ids, skip_special_tokens=True),\n",
				"\t\treference_transform=JIWER_TRANS, hypothesis_transform=JIWER_TRANS\n",
				"\t)\n",
				"\treturn {\"wer\": wer}"
			]
		},
		{
			"cell_type": "code",
			"execution_count": null,
			"metadata": {},
			"outputs": [],
			"source": [
				"# mount gdrive using GUI before training\n",
				"%cd '/content/drive/My Drive/coder'\n",
				"# %cd /kaggle/working\n",
				"# !rm -rf ./my-whisper-tiny"
			]
		},
		{
			"cell_type": "code",
			"execution_count": null,
			"metadata": {},
			"outputs": [],
			"source": [
				"SAVE_PATH = \"./my-whisper-tiny\"\n",
				"BATCH_SIZE = 16  # should be a multiple of 8\n",
				"# kaggle free P100 train faster than colab free T4\n",
				"# kaggle free T4×2: no speed up but auto double batch size\n",
				"\n",
				"# colab free tier can only run for 8-12h max daily\n",
				"# kaggle free tier can only run for 30h max weekly but max 12h per session\n",
				"\n",
				"TRAINING_ARGS = Seq2SeqTrainingArguments(\n",
				"\toutput_dir=SAVE_PATH,\n",
				"\tper_device_train_batch_size=BATCH_SIZE,\n",
				"\tper_device_eval_batch_size=BATCH_SIZE,\n",
				"\tfp16=True,\n",
				"\t# bf16=True, tf32=True, torch_compile=True,  # GPU Ampere or later\n",
				"\treport_to=[\"tensorboard\"],\n",
				"\n",
				"\tmax_steps=21000,  # no `num_train_epochs` coz streaming\n",
				"\tlogging_steps=25,\n",
				"\tsave_steps=50,\n",
				"\t# eval_steps=50,\n",
				"\tevaluation_strategy=\"no\",  # \"steps\"\n",
				"\tsave_total_limit=3,\n",
				"\n",
				"\tlearning_rate=3.75e-5,\n",
				"\twarmup_ratio=.05,  # keep between 5-15%\n",
				"\t# gradient_accumulation_steps=1,  # to increase if decrease batch size\n",
				"\tgradient_checkpointing=True,\n",
				"\tgradient_checkpointing_kwargs={\"use_reentrant\": False},\n",
				"\tpredict_with_generate=True,\n",
				"\t# generation_num_beams=5,  # require more VRAM\n",
				"\t# load_best_model_at_end=True,\n",
				"\t# metric_for_best_model=\"wer\",\n",
				"\t# greater_is_better=False,  # WER is better when lower\n",
				")\n",
				"\n",
				"TRAINER = Seq2SeqTrainer(\n",
				"\targs=TRAINING_ARGS,\n",
				"\tmodel=MODEL,\n",
				"\ttrain_dataset=MY_DATA[\"train\"],\n",
				"\teval_dataset=MY_DATA[\"test\"],\n",
				"\tdata_collator=DATA_COLLATOR,\n",
				"\tcompute_metrics=compute_metrics,\n",
				"\ttokenizer=FEATURE_EXTRACTOR,  # not TOKENIZER\n",
				")"
			]
		},
		{
			"cell_type": "code",
			"execution_count": null,
			"metadata": {},
			"outputs": [],
			"source": [
				"TRAINER.train()  # resume_from_checkpoint=True  # only if resume"
			]
		},
		{
			"cell_type": "code",
			"execution_count": null,
			"metadata": {},
			"outputs": [],
			"source": [
				"TRAINER.save_model()\n",
				"!zip -FSr res.zip ./my-whisper-tiny"
			]
		}
	],
	"metadata": {
		"accelerator": "GPU",
		"colab": {
			"gpuType": "T4",
			"private_outputs": true,
			"provenance": []
		},
		"kaggle": {
			"accelerator": "nvidiaTeslaT4",
			"dataSources": [],
			"isGpuEnabled": true,
			"isInternetEnabled": true,
			"language": "python",
			"sourceType": "notebook"
		},
		"kernelspec": {
			"display_name": "Python 3",
			"language": "python",
			"name": "python3"
		},
		"language_info": {
			"name": "python"
		}
	},
	"nbformat": 4,
	"nbformat_minor": 0
}
