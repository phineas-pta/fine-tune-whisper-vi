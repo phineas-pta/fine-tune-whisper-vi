{
	"cells": [
		{
			"cell_type": "markdown",
			"metadata": {},
			"source": [
				"# evaluate WER of whisper models\n",
				"\n",
				"[![](https://colab.research.google.com/assets/colab-badge.svg)](https://colab.research.google.com/github/phineas-pta/fine-tune-whisper-vi/blob/main/eval/evaluate-whisper.ipynb)"
			]
		},
		{
			"cell_type": "code",
			"execution_count": null,
			"metadata": {},
			"outputs": [],
			"source": [
				"from huggingface_hub import notebook_login\n",
				"notebook_login()\n",
				"# !huggingface-cli login --token=███"
			]
		},
		{
			"cell_type": "code",
			"execution_count": null,
			"metadata": {},
			"outputs": [],
			"source": [
				"# workaround for a bug in `datasets` package\n",
				"%pip uninstall -y cudf dask-cuda dask-cudf\n",
				"%pip install -q cudf-cu12 --extra-index-url=https://pypi.nvidia.com\n",
				"%pip install -qU 'datasets[audio]' accelerate transformers jiwer\n",
				"# install then `import evaluate` throw error on kaggle"
			]
		},
		{
			"cell_type": "code",
			"execution_count": null,
			"metadata": {},
			"outputs": [],
			"source": [
				"from tqdm import tqdm\n",
				"import torch\n",
				"from transformers import pipeline\n",
				"import datasets as hugDS\n",
				"import jiwer\n",
				"# DO NOT USE `evaluate.evaluator`: buggy, cannot set language resulting very bad WER\n",
				"\n",
				"JIWER_TRANS = jiwer.Compose([  # DO NOT use `jiwer.RemoveEmptyStrings` it can cause rows count mismatch\n",
				"\tjiwer.ToLowerCase(),\n",
				"\tjiwer.RemoveKaldiNonWords(),\n",
				"\tjiwer.RemoveMultipleSpaces(),\n",
				"\tjiwer.Strip(),\n",
				"\tjiwer.RemovePunctuation(),\n",
				"\tjiwer.ReduceToListOfListOfWords(),\n",
				"])"
			]
		},
		{
			"cell_type": "code",
			"execution_count": null,
			"metadata": {},
			"outputs": [],
			"source": [
				"SAMPLING_RATE = 16_000\n",
				"def load_my_data(**kwargs):\n",
				"\treturn hugDS.load_dataset(**kwargs, split=\"test\", trust_remote_code=True, streaming=True).cast_column(\"audio\", hugDS.Audio(sampling_rate=SAMPLING_RATE))\n",
				"\n",
				"MY_DATA = hugDS.IterableDatasetDict()\n",
				"MY_DATA[\"commonvoice\"] = load_my_data(path=\"mozilla-foundation/common_voice_16_1\", name=\"vi\",  ).select_columns([\"audio\", \"sentence\"])\n",
				"MY_DATA[\"fleurs\"]      = load_my_data(path=\"google/fleurs\",                        name=\"vi_vn\").select_columns([\"audio\", \"transcription\"]).rename_column(\"transcription\", \"sentence\")\n",
				"MY_DATA[\"vivos\"]       = load_my_data(path=\"vivos\"                                             ).select_columns([\"audio\", \"sentence\"])\n",
				"MY_DATA[\"bud500\"]      = load_my_data(path=\"linhtran92/viet_bud500\"                            ).rename_column(\"transcription\", \"sentence\")\n",
				"MY_DATA[\"lsvsc\"]       = load_my_data(path=\"doof-ferb/LSVSC\"                                   ).select_columns([\"audio\", \"transcription\"]).rename_column(\"transcription\", \"sentence\")\n",
				"\n",
				"ROWS_COUNT = {\n",
				"\t\"commonvoice\": 1326,\n",
				"\t\"fleurs\":       857,\n",
				"\t\"vivos\":        760,\n",
				"\t\"bud500\":      7500,\n",
				"\t\"lsvsc\":       5683,\n",
				"}"
			]
		},
		{
			"cell_type": "code",
			"execution_count": null,
			"metadata": {},
			"outputs": [],
			"source": [
				"MODEL_ID = \"vinai/PhoWhisper-large\"  # @param [\"openai/whisper-large-v3\", \"vinai/PhoWhisper-large\", \"openai/whisper-large-v2\", \"openai/whisper-medium\", \"openai/whisper-small\", \"openai/whisper-tiny\", \"openai/whisper-large-v3\", \"doof-ferb/whisper-tiny-vi\"]\n",
				"PIPE = pipeline(task=\"automatic-speech-recognition\", model=MODEL_ID, device=\"cuda:0\", torch_dtype=torch.float16)\n",
				"PIPE_KWARGS = {\"language\": \"vi\", \"task\": \"transcribe\", \"do_sample\": True, \"num_beams\": 5}\n",
				"BATCH_SIZE = 32  # @param {type: \"integer\"}\n",
				"# @markdown for colab free T4 @ `float16`: 32 for large model, 40 medium, 96 small, 512 tiny"
			]
		},
		{
			"cell_type": "code",
			"execution_count": null,
			"metadata": {},
			"outputs": [],
			"source": [
				"# workaround because KeyDataset(MY_DATA[split], \"audio\") raise error with streaming datasets\n",
				"def data(batch):\n",
				"\tfor row in batch:\n",
				"\t\tyield row[\"audio\"]\n",
				"\n",
				"\n",
				"@torch.inference_mode()\n",
				"def predict(split):\n",
				"\tbatch = MY_DATA[split]\n",
				"\ty_pred = [out[\"text\"] for out in tqdm(PIPE(data(batch), generate_kwargs=PIPE_KWARGS, batch_size=BATCH_SIZE), total=ROWS_COUNT[split], unit=\"samples\", desc=f\"{split=}\")]\n",
				"\ttorch.cuda.empty_cache()  # forced clean\n",
				"\ty_true = [row[\"sentence\"] for row in batch]\n",
				"\treturn hugDS.Dataset.from_dict({\"true\": y_true, \"pred\": y_pred})\n",
				"\n",
				"\n",
				"MY_DATA_BIS = hugDS.DatasetDict()  # do not use MY_DATA.map() because later need non-iterable with jiwer\n",
				"for split in MY_DATA.keys():\n",
				"\tMY_DATA_BIS[split] = predict(split)"
			]
		},
		{
			"cell_type": "code",
			"execution_count": null,
			"metadata": {},
			"outputs": [],
			"source": [
				"for split in MY_DATA_BIS.keys():\n",
				"\twer = 100 * jiwer.wer(\n",
				"\t\treference=MY_DATA_BIS[split][\"true\"], hypothesis=MY_DATA_BIS[split][\"pred\"],\n",
				"\t\treference_transform=JIWER_TRANS,      hypothesis_transform=JIWER_TRANS,\n",
				"\t)\n",
				"\tprint(f\"WER on {split} = {wer:.1f}%\")"
			]
		}
	],
	"metadata": {
		"accelerator": "GPU",
		"colab": {
			"gpuType": "T4",
			"private_outputs": true,
			"provenance": []
		},
		"kaggle": {
			"dataSources": [],
			"isGpuEnabled": true,
			"isInternetEnabled": true,
			"language": "python",
			"sourceType": "notebook"
		},
		"kernelspec": {
			"display_name": "Python 3",
			"language": "python",
			"name": "python3"
		},
		"language_info": {
			"name": "python"
		}
	},
	"nbformat": 4,
	"nbformat_minor": 0
}
