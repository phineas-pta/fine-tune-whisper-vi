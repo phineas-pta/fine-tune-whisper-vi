{
	"cells": [
		{
			"cell_type": "markdown",
			"metadata": {},
			"source": [
				"# evaluate WER of wav2vec BERT v2\n",
				"\n",
				"[![](https://colab.research.google.com/assets/colab-badge.svg)](https://colab.research.google.com/github/phineas-pta/fine-tune-whisper-vi/blob/main/eval/evaluate-whisper.ipynb)"
			]
		},
		{
			"cell_type": "code",
			"execution_count": null,
			"metadata": {},
			"outputs": [],
			"source": [
				"from huggingface_hub import notebook_login\n",
				"notebook_login()\n",
				"# !huggingface-cli login --token=███"
			]
		},
		{
			"cell_type": "code",
			"execution_count": null,
			"metadata": {},
			"outputs": [],
			"source": [
				"# workaround for a bug in `datasets` package\n",
				"%pip uninstall -y cudf dask-cuda dask-cudf\n",
				"%pip install -q cudf-cu12 --extra-index-url=https://pypi.nvidia.com\n",
				"%pip install -qU 'datasets[audio]' accelerate transformers jiwer\n",
				"# install then `import evaluate` throw error on kaggle"
			]
		},
		{
			"cell_type": "code",
			"execution_count": null,
			"metadata": {},
			"outputs": [],
			"source": [
				"import torch\n",
				"from transformers import AutoProcessor, Wav2Vec2BertForCTC\n",
				"import datasets as hugDS\n",
				"import jiwer\n",
				"\n",
				"JIWER_TRANS = jiwer.Compose([  # DO NOT use `jiwer.RemoveEmptyStrings` it can cause rows count mismatch\n",
				"\tjiwer.ToLowerCase(),\n",
				"\tjiwer.RemoveKaldiNonWords(),\n",
				"\tjiwer.RemoveMultipleSpaces(),\n",
				"\tjiwer.Strip(),\n",
				"\tjiwer.RemovePunctuation(),\n",
				"\tjiwer.ReduceToListOfListOfWords(),\n",
				"])"
			]
		},
		{
			"cell_type": "code",
			"execution_count": null,
			"metadata": {},
			"outputs": [],
			"source": [
				"SAMPLING_RATE = 16_000\n",
				"def load_my_data(**kwargs):\n",
				"\treturn hugDS.load_dataset(**kwargs, split=\"test\", trust_remote_code=True, streaming=True).cast_column(\"audio\", hugDS.Audio(sampling_rate=SAMPLING_RATE))\n",
				"\n",
				"MY_DATA = hugDS.DatasetDict()\n",
				"MY_DATA[\"commonvoice\"] = load_my_data(path=\"mozilla-foundation/common_voice_16_1\", name=\"vi\",  ).select_columns([\"audio\", \"sentence\"])\n",
				"MY_DATA[\"fleurs\"]      = load_my_data(path=\"google/fleurs\",                        name=\"vi_vn\").select_columns([\"audio\", \"transcription\"]).rename_column(\"transcription\", \"sentence\")\n",
				"MY_DATA[\"vivos\"]       = load_my_data(path=\"vivos\"                                             ).select_columns([\"audio\", \"sentence\"])\n",
				"MY_DATA[\"bud500\"]      = load_my_data(path=\"linhtran92/viet_bud500\"                            ).rename_column(\"transcription\", \"sentence\")\n",
				"MY_DATA[\"lsvsc\"]       = load_my_data(path=\"doof-ferb/LSVSC\"                                   ).select_columns([\"audio\", \"transcription\"]).rename_column(\"transcription\", \"sentence\")\n",
				"# samples count: 1326 + 857 + 760 + 7500 + 5683"
			]
		},
		{
			"cell_type": "code",
			"execution_count": null,
			"metadata": {},
			"outputs": [],
			"source": [
				"MODEL_ID = \"trick4kid/w2v-bert-2.0-vietnamese-CV16.0\"  # @param [\"facebook/w2v-bert-2.0\", \"trick4kid/w2v-bert-2.0-vietnamese-CV16.0\"]\n",
				"MODEL = Wav2Vec2BertForCTC.from_pretrained(MODEL_ID, target_lang=\"vi\").to(\"cuda\")\n",
				"PROCESSOR = AutoProcessor.from_pretrained(MODEL_ID)"
			]
		},
		{
			"cell_type": "code",
			"execution_count": null,
			"metadata": {},
			"outputs": [],
			"source": [
				"@torch.inference_mode()\n",
				"def predict(batch):\n",
				"\tinputs = PROCESSOR(batch[\"audio\"][\"array\"], sampling_rate=SAMPLING_RATE, return_tensors=\"pt\").to(MODEL.device)\n",
				"\tlogits = MODEL(**inputs).logits\n",
				"\tpredicted_ids = torch.argmax(logits, dim=-1)\n",
				"\tbatch[\"pred\"] = PROCESSOR.batch_decode(predicted_ids)[0]\n",
				"\treturn batch\n",
				"\n",
				"MY_DATA_BIS = MY_DATA.map(predict, remove_columns=[\"audio\"])  # progress bar included"
			]
		},
		{
			"cell_type": "code",
			"execution_count": null,
			"metadata": {},
			"outputs": [],
			"source": [
				"for split in MY_DATA_BIS.keys():\n",
				"\twer = 100 * jiwer.wer(\n",
				"\t\treference=MY_DATA_BIS[split][\"sentence\"], hypothesis=MY_DATA_BIS[split][\"pred\"],\n",
				"\t\treference_transform=JIWER_TRANS,          hypothesis_transform=JIWER_TRANS,\n",
				"\t)\n",
				"\tprint(f\"WER on {split} = {wer:.1f}%\")"
			]
		}
	],
	"metadata": {
		"accelerator": "GPU",
		"colab": {
			"gpuType": "T4",
			"private_outputs": true,
			"provenance": []
		},
		"kaggle": {
			"dataSources": [],
			"isGpuEnabled": true,
			"isInternetEnabled": true,
			"language": "python",
			"sourceType": "notebook"
		},
		"kernelspec": {
			"display_name": "Python 3",
			"language": "python",
			"name": "python3"
		},
		"language_info": {
			"name": "python"
		}
	},
	"nbformat": 4,
	"nbformat_minor": 0
}
